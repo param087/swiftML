{
 "cells": [
  {
   "cell_type": "markdown",
   "metadata": {},
   "source": [
    "## Installation command for local Repository"
   ]
  },
  {
   "cell_type": "code",
   "execution_count": 1,
   "metadata": {},
   "outputs": [
    {
     "name": "stdout",
     "output_type": "stream",
     "text": [
      "Installing packages:\n",
      "\t.package(path: \"/home/param/GSOC19/github/swiftML\")\n",
      "\t\tswiftML\n",
      "With SwiftPM flags: []\n",
      "Working in: /tmp/tmpm6e7jeus/swift-install\n",
      "Completed resolution in 0.38s\n",
      "Compile Swift Module 'swiftML' (10 sources)\n",
      "/home/param/GSOC19/github/swiftML/Sources/swiftML/KNeighborsClassifier.swift:133:13: warning: variable 'idx' was written to, but never read\n",
      "        var idx: Tensor<Int32>\n",
      "            ^\n",
      "\n",
      "Compile Swift Module 'jupyterInstalledPackages' (1 sources)\n",
      "Linking ./.build/x86_64-unknown-linux/debug/libjupyterInstalledPackages.so\n",
      "Initializing Swift...\n",
      "Installation complete!\n"
     ]
    }
   ],
   "source": [
    "%install '.package(path: \"/home/param/GSOC19/github/swiftML\")' swiftML"
   ]
  },
  {
   "cell_type": "code",
   "execution_count": 4,
   "metadata": {},
   "outputs": [],
   "source": [
    "import TensorFlow\n",
    "import swiftML"
   ]
  },
  {
   "cell_type": "code",
   "execution_count": 5,
   "metadata": {},
   "outputs": [],
   "source": [
    "let features = Tensor<Float>([[-2, 2],[-3, 0],[2, -1],[1, -4]])\n",
    "let labels = Tensor<Float>([[1],[1],[0],[2]])\n"
   ]
  },
  {
   "cell_type": "code",
   "execution_count": 8,
   "metadata": {},
   "outputs": [
    {
     "name": "stdout",
     "output_type": "stream",
     "text": [
      "Prediction:  [[1.0],\r\n",
      " [1.0],\r\n",
      " [0.0],\r\n",
      " [2.0]]\r\n",
      "score:  1.0\r\n",
      "model weights:  [[[ 0.6430531],\r\n",
      " [-1.9479557],\r\n",
      " [ 2.0078082]], [[-0.82487106],\r\n",
      " [  3.6775508],\r\n",
      " [  1.8352095]], [[-4.5051765],\r\n",
      " [-0.2930312],\r\n",
      " [-2.1806455]]]\r\n",
      "model classes:  [1, 0, 2]\r\n"
     ]
    }
   ],
   "source": [
    "let model = LogisticRegression()\n",
    "model.fit(X: features, y: labels)\n",
    "\n",
    "print(\"Prediction: \",model.predict(X:features))\n",
    "print(\"score: \",model.score(X: features, y: labels ))\n",
    "print(\"model weights: \",model.w)\n",
    "print(\"model classes: \",model.cls)"
   ]
  },
  {
   "cell_type": "code",
   "execution_count": null,
   "metadata": {},
   "outputs": [],
   "source": []
  }
 ],
 "metadata": {
  "kernelspec": {
   "display_name": "Swift",
   "language": "swift",
   "name": "swift"
  },
  "language_info": {
   "file_extension": ".swift",
   "mimetype": "text/x-swift",
   "name": "swift",
   "version": ""
  }
 },
 "nbformat": 4,
 "nbformat_minor": 2
}
