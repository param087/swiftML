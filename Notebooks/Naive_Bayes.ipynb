{
 "cells": [
  {
   "cell_type": "markdown",
   "metadata": {
    "scrolled": true
   },
   "source": [
    "## Installation command for local Repository"
   ]
  },
  {
   "cell_type": "code",
   "execution_count": 1,
   "metadata": {},
   "outputs": [
    {
     "name": "stdout",
     "output_type": "stream",
     "text": [
      "Installing packages:\n",
      "\t.package(path: \"/home/param/GSOC19/github/swiftML\")\n",
      "\t\tswiftML\n",
      "With SwiftPM flags: []\n",
      "Working in: /tmp/tmpkkew0w4s/swift-install\n",
      "Completed resolution in 0.39s\n",
      "Compile Swift Module 'swiftML' (10 sources)\n",
      "/home/param/GSOC19/github/swiftML/Sources/swiftML/KNeighborsClassifier.swift:133:13: warning: variable 'idx' was written to, but never read\n",
      "        var idx: Tensor<Int32>\n",
      "            ^\n",
      "\n",
      "Compile Swift Module 'jupyterInstalledPackages' (1 sources)\n",
      "Linking ./.build/x86_64-unknown-linux/debug/libjupyterInstalledPackages.so\n",
      "Initializing Swift...\n",
      "Installation complete!\n"
     ]
    }
   ],
   "source": [
    "%install '.package(path: \"/home/param/GSOC19/github/swiftML\")' swiftML"
   ]
  },
  {
   "cell_type": "code",
   "execution_count": 2,
   "metadata": {},
   "outputs": [],
   "source": [
    "import TensorFlow\n",
    "import swiftML"
   ]
  },
  {
   "cell_type": "markdown",
   "metadata": {},
   "source": [
    "# Bernoulli Naive Bayes"
   ]
  },
  {
   "cell_type": "code",
   "execution_count": 3,
   "metadata": {},
   "outputs": [],
   "source": [
    "let x = Tensor<Float>([\n",
    "    [1,1,0,0,0,0],\n",
    "    [1,0,1,0,0,0],\n",
    "    [1,0,0,1,0,0],\n",
    "    [1,0,0,0,1,1]\n",
    "])\n",
    "let y = Tensor<Float>([0,0,0,1]) "
   ]
  },
  {
   "cell_type": "code",
   "execution_count": 5,
   "metadata": {},
   "outputs": [
    {
     "name": "stdout",
     "output_type": "stream",
     "text": [
      "predictLogProba:  [[ -5.262178, -3.8190851],\r\n",
      " [ -4.686814, -5.8985267]]\r\n",
      "Prediction:  [1, 0]\r\n",
      "Score:  1.0\r\n"
     ]
    }
   ],
   "source": [
    "let model = BernoulliNB()\n",
    "model.fit(X:x, y:y)\n",
    "\n",
    "let x_test = Tensor<Float>([[1,0,0,0,1,1],[1,1,1,0,0,1]])\n",
    "let y_test = Tensor<Float>([1, 0])\n",
    "\n",
    "print(\"predictLogProba: \",model.predictLogProba(X: x_test))\n",
    "print(\"Prediction: \",model.predict(X: x_test))\n",
    "print(\"Score: \", model.score(X: x_test, y: y_test))"
   ]
  },
  {
   "cell_type": "markdown",
   "metadata": {},
   "source": [
    "# Multinomial Naive Bayes"
   ]
  },
  {
   "cell_type": "code",
   "execution_count": 5,
   "metadata": {},
   "outputs": [],
   "source": [
    "let x = Tensor<Float>([\n",
    "    [2,1,0,0,0,0],\n",
    "    [2,0,1,0,0,0],\n",
    "    [1,0,0,1,0,0],\n",
    "    [1,0,0,0,1,1]\n",
    "])\n",
    "let y = Tensor<Float>([0,0,0,1]) "
   ]
  },
  {
   "cell_type": "code",
   "execution_count": 6,
   "metadata": {},
   "outputs": [
    {
     "name": "stdout",
     "output_type": "stream",
     "text": [
      "predictLogProba:  [[-8.553332, -8.906681],\r\n",
      " [-8.841015, -8.788898]]\r\n",
      "Prediction:  [0, 1]\r\n",
      "Score:  1.0\r\n"
     ]
    }
   ],
   "source": [
    "let model = MultinomialNB()\n",
    "model.fit(X:x, y:y)\n",
    "\n",
    "let x_test = Tensor<Float>([[3,0,0,0,1,1],[0,1,1,0,1,1]])\n",
    "let y_test = Tensor<Float>([0, 1])\n",
    "\n",
    "print(\"predictLogProba: \",model.predictLogProba(X: x_test))\n",
    "print(\"Prediction: \",model.predict(X: x_test))\n",
    "print(\"Score: \",model.score(X: x, y: y))"
   ]
  },
  {
   "cell_type": "markdown",
   "metadata": {},
   "source": [
    "# GaussianNB"
   ]
  },
  {
   "cell_type": "markdown",
   "metadata": {},
   "source": [
    "### IRIS DATASET"
   ]
  },
  {
   "cell_type": "code",
   "execution_count": 7,
   "metadata": {},
   "outputs": [],
   "source": [
    "let X_train = Tensor<Float>([[6.3, 2.9, 5.6, 1.8],\n",
    "       [5.7, 3.8, 1.7, 0.3],\n",
    "       [5.0, 3.0, 1.6, 0.2],\n",
    "       [5.0, 3.5, 1.3, 0.3],\n",
    "       [4.9, 2.4, 3.3, 1.0],\n",
    "       [5.5, 2.3, 4.0, 1.3],\n",
    "       [6.0, 2.7, 5.1, 1.6],\n",
    "       [5.8, 2.6, 4.0, 1.2],\n",
    "       [6.8, 3.0, 5.5, 2.1],\n",
    "       [5.1, 2.5, 3.0, 1.1],\n",
    "       [5.0, 3.5, 1.6, 0.6],\n",
    "       [6.1, 2.8, 4.7, 1.2],\n",
    "       [5.8, 2.7, 4.1, 1.0],\n",
    "       [5.0, 3.4, 1.6, 0.4],\n",
    "       [5.8, 2.7, 5.1, 1.9],\n",
    "       [5.5, 3.5, 1.3, 0.2],\n",
    "       [5.0, 3.3, 1.4, 0.2],\n",
    "       [6.5, 3.0, 5.8, 2.2],\n",
    "       [6.9, 3.1, 5.1, 2.3],\n",
    "       [6.5, 3.0, 5.2, 2.0],\n",
    "       [6.3, 2.5, 4.9, 1.5],\n",
    "       [5.7, 2.5, 5.0, 2.0],\n",
    "       [5.8, 4.0, 1.2, 0.2],\n",
    "       [6.3, 2.3, 4.4, 1.3],\n",
    "       [5.1, 3.3, 1.7, 0.5],\n",
    "       [4.8, 3.4, 1.9, 0.2],\n",
    "       [4.4, 3.2, 1.3, 0.2],\n",
    "       [6.7, 3.1, 5.6, 2.4],\n",
    "       [7.2, 3.2, 6.0, 1.8],\n",
    "       [5.4, 3.4, 1.5, 0.4],\n",
    "       [4.9, 3.6, 1.4, 0.1],\n",
    "       [6.7, 3.3, 5.7, 2.5],\n",
    "       [6.7, 3.1, 4.7, 1.5],\n",
    "       [4.3, 3.0, 1.1, 0.1],\n",
    "       [6.0, 2.2, 5.0, 1.5],\n",
    "       [4.6, 3.2, 1.4, 0.2],\n",
    "       [5.7, 2.6, 3.5, 1.0],\n",
    "       [4.9, 3.1, 1.5, 0.1],\n",
    "       [5.7, 2.8, 4.5, 1.3],\n",
    "       [5.3, 3.7, 1.5, 0.2],\n",
    "       [6.7, 3.0, 5.2, 2.3],\n",
    "       [7.3, 2.9, 6.3, 1.8],\n",
    "       [6.4, 2.7, 5.3, 1.9],\n",
    "       [4.8, 3.0, 1.4, 0.1],\n",
    "       [5.4, 3.7, 1.5, 0.2],\n",
    "       [6.4, 2.8, 5.6, 2.2],\n",
    "       [4.5, 2.3, 1.3, 0.3],\n",
    "       [5.4, 3.0, 4.5, 1.5],\n",
    "       [7.2, 3.0, 5.8, 1.6],\n",
    "       [5.5, 2.4, 3.7, 1.0],\n",
    "       [4.9, 3.0, 1.4, 0.2],\n",
    "       [5.6, 2.7, 4.2, 1.3],\n",
    "       [5.4, 3.9, 1.3, 0.4],\n",
    "       [5.1, 3.7, 1.5, 0.4],\n",
    "       [6.5, 3.0, 5.5, 1.8],\n",
    "       [5.5, 2.6, 4.4, 1.2],\n",
    "       [5.0, 2.0, 3.5, 1.0],\n",
    "       [5.4, 3.4, 1.7, 0.2],\n",
    "       [5.1, 3.8, 1.9, 0.4],\n",
    "       [4.6, 3.6, 1.0, 0.2],\n",
    "       [6.9, 3.2, 5.7, 2.3],\n",
    "       [6.0, 3.4, 4.5, 1.6],\n",
    "       [4.8, 3.4, 1.6, 0.2],\n",
    "       [4.7, 3.2, 1.6, 0.2],\n",
    "       [5.5, 4.2, 1.4, 0.2],\n",
    "       [6.2, 2.2, 4.5, 1.5],\n",
    "       [6.3, 2.5, 5.0, 1.9],\n",
    "       [6.3, 2.7, 4.9, 1.8],\n",
    "       [6.0, 2.2, 4.0, 1.0],\n",
    "       [5.0, 3.6, 1.4, 0.2],\n",
    "       [5.8, 2.7, 3.9, 1.2],\n",
    "       [6.4, 2.9, 4.3, 1.3],\n",
    "       [6.6, 3.0, 4.4, 1.4],\n",
    "       [6.7, 2.5, 5.8, 1.8],\n",
    "       [6.5, 3.2, 5.1, 2.0],\n",
    "       [5.1, 3.4, 1.5, 0.2],\n",
    "       [6.1, 3.0, 4.9, 1.8],\n",
    "       [5.4, 3.9, 1.7, 0.4],\n",
    "       [7.0, 3.2, 4.7, 1.4],\n",
    "       [4.7, 3.2, 1.3, 0.2],\n",
    "       [5.2, 3.5, 1.5, 0.2],\n",
    "       [4.6, 3.4, 1.4, 0.3],\n",
    "       [6.0, 2.9, 4.5, 1.5],\n",
    "       [6.0, 3.0, 4.8, 1.8],\n",
    "       [5.8, 2.8, 5.1, 2.4],\n",
    "       [5.7, 4.4, 1.5, 0.4],\n",
    "       [7.7, 3.8, 6.7, 2.2],\n",
    "       [4.9, 2.5, 4.5, 1.7],\n",
    "       [4.8, 3.0, 1.4, 0.3],\n",
    "       [6.5, 2.8, 4.6, 1.5],\n",
    "       [6.8, 3.2, 5.9, 2.3],\n",
    "       [6.2, 2.9, 4.3, 1.3],\n",
    "       [5.6, 2.5, 3.9, 1.1],\n",
    "       [6.3, 3.4, 5.6, 2.4],\n",
    "       [4.8, 3.1, 1.6, 0.2],\n",
    "       [5.7, 2.8, 4.1, 1.3],\n",
    "       [6.4, 3.1, 5.5, 1.8],\n",
    "       [7.7, 2.6, 6.9, 2.3],\n",
    "       [5.6, 2.8, 4.9, 2.0],\n",
    "       [6.9, 3.1, 5.4, 2.1],\n",
    "       [6.1, 3.0, 4.6, 1.4],\n",
    "       [4.6, 3.1, 1.5, 0.2],\n",
    "       [4.4, 3.0, 1.3, 0.2],\n",
    "       [6.1, 2.6, 5.6, 1.4],\n",
    "       [7.1, 3.0, 5.9, 2.1],\n",
    "       [5.8, 2.7, 5.1, 1.9],\n",
    "       [5.0, 3.2, 1.2, 0.2],\n",
    "       [6.4, 3.2, 4.5, 1.5],\n",
    "       [5.1, 3.5, 1.4, 0.3],\n",
    "       [6.1, 2.8, 4.0, 1.3],\n",
    "       [6.2, 2.8, 4.8, 1.8],\n",
    "       [7.4, 2.8, 6.1, 1.9]])\n",
    "\n",
    "var y_train = Tensor<Float>([2, 0, 0, 0, 1, 1, 1, 1, 2, 1, 0, 1, 1, 0, 2, 0, 0, 2, 2, 2, 1, 2,\n",
    "       0, 1, 0, 0, 0, 2, 2, 0, 0, 2, 1, 0, 2, 0, 1, 0, 1, 0, 2, 2, 2, 0,\n",
    "       0, 2, 0, 1, 2, 1, 0, 1, 0, 0, 2, 1, 1, 0, 0, 0, 2, 1, 0, 0, 0, 1,\n",
    "       2, 2, 1, 0, 1, 1, 1, 2, 2, 0, 2, 0, 1, 0, 0, 0, 1, 2, 2, 0, 2, 2,\n",
    "       0, 1, 2, 1, 1, 2, 0, 1, 2, 2, 2, 2, 1, 0, 0, 2, 2, 2, 0, 1, 0, 1,\n",
    "       2, 2])"
   ]
  },
  {
   "cell_type": "code",
   "execution_count": 8,
   "metadata": {},
   "outputs": [],
   "source": [
    "let X_test = Tensor<Float>([[5.9, 3.2, 4.8, 1.8],\n",
    "       [7.7, 3.0, 6.1, 2.3],\n",
    "       [7.7, 2.8, 6.7, 2.0],\n",
    "       [7.6, 3.0, 6.6, 2.1],\n",
    "       [6.3, 3.3, 4.7, 1.6],\n",
    "       [4.9, 3.1, 1.5, 0.2],\n",
    "       [5.7, 3.0, 4.2, 1.2],\n",
    "       [6.4, 3.2, 5.3, 2.3],\n",
    "       [6.7, 3.0, 5.0, 1.7],\n",
    "       [5.6, 3.0, 4.5, 1.5],\n",
    "       [6.8, 2.8, 4.8, 1.4],\n",
    "       [5.5, 2.5, 4.0, 1.3],\n",
    "       [5.7, 2.9, 4.2, 1.3],\n",
    "       [6.7, 3.1, 4.4, 1.4],\n",
    "       [6.1, 2.9, 4.7, 1.4],\n",
    "       [5.6, 3.0, 4.1, 1.3],\n",
    "       [4.4, 2.9, 1.4, 0.2],\n",
    "       [5.1, 3.8, 1.5, 0.3],\n",
    "       [5.2, 2.7, 3.9, 1.4],\n",
    "       [5.1, 3.8, 1.6, 0.2],\n",
    "       [6.2, 3.4, 5.4, 2.3],\n",
    "       [5.6, 2.9, 3.6, 1.3],\n",
    "       [7.9, 3.8, 6.4, 2.0],\n",
    "       [6.3, 3.3, 6.0, 2.5],\n",
    "       [5.5, 2.4, 3.8, 1.1],\n",
    "       [5.1, 3.5, 1.4, 0.2],\n",
    "       [5.9, 3.0, 5.1, 1.8],\n",
    "       [6.4, 2.8, 5.6, 2.1],\n",
    "       [5.0, 2.3, 3.3, 1.0],\n",
    "       [5.9, 3.0, 4.2, 1.5],\n",
    "       [5.2, 3.4, 1.4, 0.2],\n",
    "       [6.7, 3.3, 5.7, 2.1],\n",
    "       [5.0, 3.4, 1.5, 0.2],\n",
    "       [6.6, 2.9, 4.6, 1.3],\n",
    "       [5.2, 4.1, 1.5, 0.1],\n",
    "       [7.2, 3.6, 6.1, 2.5],\n",
    "       [6.9, 3.1, 4.9, 1.5],\n",
    "       [6.3, 2.8, 5.1, 1.5]])\n",
    "\n",
    "let y_test = Tensor<Float>([1, 2, 2, 2, 1, 0, 1, 2, 1, 1, 1, 1, 1, 1, 1, 1, 0, 0, 1, 0, 2, 1,\n",
    "       2, 2, 1, 0, 2, 2, 1, 1, 0, 2, 0, 1, 0, 2, 1, 2])"
   ]
  },
  {
   "cell_type": "code",
   "execution_count": 9,
   "metadata": {
    "scrolled": true
   },
   "outputs": [
    {
     "name": "stdout",
     "output_type": "stream",
     "text": [
      "Training Accuarcy:  0.97321427\n",
      "Testing Accuarcy:  0.8947368\n"
     ]
    }
   ],
   "source": [
    "let model = GaussianNB()\n",
    "model.fit(X:X_train, y:y_train)\n",
    "print(\"Training Accuarcy: \",model.score(X: X_train, y: y_train))\n",
    "print(\"Testing Accuarcy: \",model.score(X: X_test, y: y_test))"
   ]
  }
 ],
 "metadata": {
  "kernelspec": {
   "display_name": "Swift",
   "language": "swift",
   "name": "swift"
  },
  "language_info": {
   "file_extension": ".swift",
   "mimetype": "text/x-swift",
   "name": "swift",
   "version": ""
  }
 },
 "nbformat": 4,
 "nbformat_minor": 2
}
