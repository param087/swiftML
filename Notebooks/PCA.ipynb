{
 "cells": [
  {
   "cell_type": "markdown",
   "metadata": {},
   "source": [
    "## Installation command for local Repository"
   ]
  },
  {
   "cell_type": "code",
   "execution_count": 1,
   "metadata": {},
   "outputs": [
    {
     "name": "stdout",
     "output_type": "stream",
     "text": [
      "Installing packages:\n",
      "\t.package(path: \"/home/param/GSOC19/github/swiftML\")\n",
      "\t\tswiftML\n",
      "With SwiftPM flags: []\n",
      "Working in: /tmp/tmpxzod8o1h/swift-install\n",
      "Completed resolution in 0.39s\n",
      "Compile Swift Module 'swiftML' (11 sources)\n",
      "/home/param/GSOC19/github/swiftML/Sources/swiftML/KNeighborsClassifier.swift:133:13: warning: variable 'idx' was written to, but never read\n",
      "        var idx: Tensor<Int32>\n",
      "            ^\n",
      "\n",
      "Compile Swift Module 'jupyterInstalledPackages' (1 sources)\n",
      "Linking ./.build/x86_64-unknown-linux/debug/libjupyterInstalledPackages.so\n",
      "Initializing Swift...\n",
      "Installation complete!\n"
     ]
    }
   ],
   "source": [
    "%install '.package(path: \"/home/param/GSOC19/github/swiftML\")' swiftML"
   ]
  },
  {
   "cell_type": "code",
   "execution_count": 2,
   "metadata": {},
   "outputs": [],
   "source": [
    "import TensorFlow\n",
    "import swiftML"
   ]
  },
  {
   "cell_type": "markdown",
   "metadata": {},
   "source": [
    "### Dataset"
   ]
  },
  {
   "cell_type": "code",
   "execution_count": 3,
   "metadata": {},
   "outputs": [],
   "source": [
    "let X = Tensor<Float>([[-1, -1], [-2, -1], [-3, -2], [1, 1], [2, 1], [3, 2]])"
   ]
  },
  {
   "cell_type": "markdown",
   "metadata": {},
   "source": [
    "## Principal Component Analysis"
   ]
  },
  {
   "cell_type": "code",
   "execution_count": 4,
   "metadata": {},
   "outputs": [
    {
     "name": "stdout",
     "output_type": "stream",
     "text": [
      "[[  1.3834057,  0.29357868],\r\n",
      " [   2.221898, -0.25133485],\r\n",
      " [  3.6053038,  0.04224384],\r\n",
      " [ -1.3834057, -0.29357868],\r\n",
      " [  -2.221898,  0.25133485],\r\n",
      " [ -3.6053038, -0.04224384]]\r\n"
     ]
    }
   ],
   "source": [
    "let model = PCA(nComponents: 2)\n",
    "model.fit(X: X)\n",
    "let newX = model.transform(X: X)\n",
    "print(newX)"
   ]
  },
  {
   "cell_type": "markdown",
   "metadata": {},
   "source": [
    "### Retrieve Original Dataset"
   ]
  },
  {
   "cell_type": "code",
   "execution_count": 5,
   "metadata": {},
   "outputs": [
    {
     "name": "stdout",
     "output_type": "stream",
     "text": [
      "[[-0.99999994,  -0.9999999],\r\n",
      " [       -2.0,        -1.0],\r\n",
      " [ -2.9999998,  -1.9999999],\r\n",
      " [ 0.99999994,   0.9999999],\r\n",
      " [        2.0,         1.0],\r\n",
      " [  2.9999998,   1.9999999]]\r\n"
     ]
    }
   ],
   "source": [
    "let XOriginal = model.inverseTransform(X: newX)\n",
    "print(XOriginal)"
   ]
  },
  {
   "cell_type": "code",
   "execution_count": 6,
   "metadata": {},
   "outputs": [
    {
     "name": "stdout",
     "output_type": "stream",
     "text": [
      "mean:  [[0.0, 0.0]]\r\n",
      "components:  [[ -0.8384922, -0.54491353],\r\n",
      " [ 0.54491353,  -0.8384922]]\r\n",
      "nComponents:  2\r\n",
      "expainedVariance:  [  7.9395423, 0.060456894]\r\n",
      "expainedVarianceRatio:  [   0.9924429, 0.0075571127]\r\n",
      "singularValues:  [  6.300612, 0.54980403]\r\n"
     ]
    }
   ],
   "source": [
    "print(\"mean: \", model.mean)\n",
    "print(\"components: \", model.components)\n",
    "print(\"nComponents: \", model.nComponents)\n",
    "print(\"expainedVariance: \",model.expainedVariance)\n",
    "print(\"expainedVarianceRatio: \", model.expainedVarianceRatio)\n",
    "print(\"singularValues: \", model.singularValues)"
   ]
  },
  {
   "cell_type": "code",
   "execution_count": null,
   "metadata": {},
   "outputs": [],
   "source": []
  }
 ],
 "metadata": {
  "kernelspec": {
   "display_name": "Swift",
   "language": "swift",
   "name": "swift"
  },
  "language_info": {
   "file_extension": ".swift",
   "mimetype": "text/x-swift",
   "name": "swift",
   "version": ""
  }
 },
 "nbformat": 4,
 "nbformat_minor": 2
}
