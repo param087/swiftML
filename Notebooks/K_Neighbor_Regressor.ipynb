{
 "cells": [
  {
   "cell_type": "markdown",
   "metadata": {},
   "source": [
    "## Installation command for local Repository"
   ]
  },
  {
   "cell_type": "code",
   "execution_count": 1,
   "metadata": {},
   "outputs": [
    {
     "name": "stdout",
     "output_type": "stream",
     "text": [
      "Installing packages:\n",
      "\t.package(path: \"/home/param/GSOC19/github/swiftML\")\n",
      "\t\tswiftML\n",
      "With SwiftPM flags: []\n",
      "Working in: /tmp/tmpwgdn5yvt/swift-install\n",
      "Completed resolution in 0.67s\n",
      "Compile Swift Module 'swiftML' (10 sources)\n",
      "/home/param/GSOC19/github/swiftML/Sources/swiftML/KNeighborsClassifier.swift:133:13: warning: variable 'idx' was written to, but never read\n",
      "        var idx: Tensor<Int32>\n",
      "            ^\n",
      "\n",
      "Compile Swift Module 'jupyterInstalledPackages' (1 sources)\n",
      "Linking ./.build/x86_64-unknown-linux/debug/libjupyterInstalledPackages.so\n",
      "Initializing Swift...\n",
      "Installation complete!\n"
     ]
    }
   ],
   "source": [
    "%install '.package(path: \"/home/param/GSOC19/github/swiftML\")' swiftML"
   ]
  },
  {
   "cell_type": "code",
   "execution_count": 2,
   "metadata": {},
   "outputs": [],
   "source": [
    "import TensorFlow\n",
    "import swiftML"
   ]
  },
  {
   "cell_type": "markdown",
   "metadata": {},
   "source": [
    "## dataset"
   ]
  },
  {
   "cell_type": "code",
   "execution_count": 3,
   "metadata": {},
   "outputs": [],
   "source": [
    "let X_train = Tensor<Float>([[10], [9], [2], [15], [10], [16], [11], [16]])\n",
    "let y_train = Tensor<Float>([95, 80, 10, 50, 45, 98, 38, 93])"
   ]
  },
  {
   "cell_type": "markdown",
   "metadata": {},
   "source": [
    "##  KNeighbors Regressor"
   ]
  },
  {
   "cell_type": "code",
   "execution_count": 7,
   "metadata": {},
   "outputs": [
    {
     "name": "stdout",
     "output_type": "stream",
     "text": [
      "Prediction:  [45.0, 80.0, 10.0, 50.0, 45.0, 93.0, 38.0, 93.0]\r\n"
     ]
    }
   ],
   "source": [
    "let model = KNeighborsRegressor(neighbors: 4, weights: \"distance\")\n",
    "model.fit(X: X_train, y: y_train)\n",
    "print(\"Prediction: \",model.predict(X: X_train))"
   ]
  },
  {
   "cell_type": "code",
   "execution_count": 8,
   "metadata": {},
   "outputs": [
    {
     "name": "stdout",
     "output_type": "stream",
     "text": [
      "Predcition:  [70.0, 62.5, 45.0, 71.5, 70.0, 95.5, 41.5, 95.5]\r\n"
     ]
    }
   ],
   "source": [
    "let model = KNeighborsRegressor(neighbors: 2, weights: \"uniform\")\n",
    "model.fit(X: X_train, y: y_train)\n",
    "print(\"Predcition: \",model.predict(X: X_train))"
   ]
  },
  {
   "cell_type": "code",
   "execution_count": null,
   "metadata": {},
   "outputs": [],
   "source": []
  }
 ],
 "metadata": {
  "kernelspec": {
   "display_name": "Swift",
   "language": "swift",
   "name": "swift"
  },
  "language_info": {
   "file_extension": ".swift",
   "mimetype": "text/x-swift",
   "name": "swift",
   "version": ""
  }
 },
 "nbformat": 4,
 "nbformat_minor": 2
}
