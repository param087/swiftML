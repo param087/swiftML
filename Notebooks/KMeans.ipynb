{
 "cells": [
  {
   "cell_type": "markdown",
   "metadata": {},
   "source": [
    "## Installation command for local Repository"
   ]
  },
  {
   "cell_type": "code",
   "execution_count": 1,
   "metadata": {},
   "outputs": [
    {
     "name": "stdout",
     "output_type": "stream",
     "text": [
      "Installing packages:\n",
      "\t.package(path: \"/home/param/GSOC19/github/swiftML\")\n",
      "\t\tswiftML\n",
      "With SwiftPM flags: []\n",
      "Working in: /tmp/tmp7vsrajw1/swift-install\n",
      "Completed resolution in 0.40s\n",
      "Compile Swift Module 'swiftML' (10 sources)\n",
      "/home/param/GSOC19/github/swiftML/Sources/swiftML/KNeighborsClassifier.swift:133:13: warning: variable 'idx' was written to, but never read\n",
      "        var idx: Tensor<Int32>\n",
      "            ^\n",
      "\n",
      "Compile Swift Module 'jupyterInstalledPackages' (1 sources)\n",
      "Linking ./.build/x86_64-unknown-linux/debug/libjupyterInstalledPackages.so\n",
      "Initializing Swift...\n",
      "Installation complete!\n"
     ]
    }
   ],
   "source": [
    "%install '.package(path: \"/home/param/GSOC19/github/swiftML\")' swiftML"
   ]
  },
  {
   "cell_type": "markdown",
   "metadata": {},
   "source": [
    "### Import"
   ]
  },
  {
   "cell_type": "code",
   "execution_count": 2,
   "metadata": {},
   "outputs": [],
   "source": [
    "import TensorFlow\n",
    "import swiftML"
   ]
  },
  {
   "cell_type": "code",
   "execution_count": 3,
   "metadata": {},
   "outputs": [],
   "source": [
    "%include \"EnableIPythonDisplay.swift\"\n",
    "IPythonDisplay.shell.enable_matplotlib(\"inline\")\n",
    "\n",
    "let np = Python.import(\"numpy\")\n",
    "\n",
    "let plt = Python.import(\"matplotlib.pyplot\")"
   ]
  },
  {
   "cell_type": "markdown",
   "metadata": {},
   "source": [
    "### Dataset"
   ]
  },
  {
   "cell_type": "code",
   "execution_count": 4,
   "metadata": {},
   "outputs": [],
   "source": [
    "let data = Tensor<Float>([[1, 1], [1, 2], [2, 2], [4, 5], [5, 4]])"
   ]
  },
  {
   "cell_type": "markdown",
   "metadata": {},
   "source": [
    "## KMeans with random initializer"
   ]
  },
  {
   "cell_type": "code",
   "execution_count": 5,
   "metadata": {},
   "outputs": [
    {
     "name": "stdout",
     "output_type": "stream",
     "text": [
      "Labels:  [[1],\r\n",
      " [1],\r\n",
      " [1],\r\n",
      " [0],\r\n",
      " [0]]\r\n",
      "Inertia:  2.3333335\r\n",
      "Transform:  [[      24.5,  0.5555557],\r\n",
      " [      18.5,  0.2222222],\r\n",
      " [      12.5, 0.55555546],\r\n",
      " [       0.5,  18.222221],\r\n",
      " [       0.5,  18.888887]]\r\n"
     ]
    }
   ],
   "source": [
    "\n",
    "let model = KMeans(nClusters: 2, maxIterations: 100, initializer: \"random\")\n",
    "model.fit(X: data)\n",
    "print(\"Labels: \",model.labels)\n",
    "print(\"Inertia: \",model.inertia)\n",
    "print(\"Transform: \",model.transform(X: data))"
   ]
  },
  {
   "cell_type": "code",
   "execution_count": 6,
   "metadata": {},
   "outputs": [],
   "source": [
    "let y = model.labels.makeNumpyArray()\n",
    "let centroids = model.centroids.makeNumpyArray()\n",
    "\n",
    "let dataNP = data.makeNumpyArray()\n",
    "let colors2 = [\"red\",\"blue\"]"
   ]
  },
  {
   "cell_type": "code",
   "execution_count": 7,
   "metadata": {},
   "outputs": [
    {
     "data": {
      "image/png": "[encoded data removed]",
      "text/plain": [
       "<Figure size 720x432 with 1 Axes>"
      ]
     },
     "metadata": {
      "needs_background": "light"
     },
     "output_type": "display_data"
    },
    {
     "data": {
      "text/plain": [
       "None\n"
      ]
     },
     "execution_count": 7,
     "metadata": {},
     "output_type": "execute_result"
    }
   ],
   "source": [
    "plt.figure(figsize: [10, 6])\n",
    "\n",
    "for i in 0..<data.shape[0] {\n",
    "    let id:Int = Int(y[i][0])!\n",
    "    plt.scatter(dataNP[i][0], dataNP[i][1], color: colors2[id])\n",
    "}\n",
    "\n",
    "for i in 0..<model.centroids.shape[0] {\n",
    "    plt.scatter(centroids[i][0], centroids[i][1], color: \"black\", marker: \"*\")\n",
    "}\n",
    "\n",
    "plt.show()"
   ]
  },
  {
   "cell_type": "markdown",
   "metadata": {},
   "source": [
    "## Kmeans with Kmean++ initializer"
   ]
  },
  {
   "cell_type": "code",
   "execution_count": 8,
   "metadata": {},
   "outputs": [
    {
     "name": "stdout",
     "output_type": "stream",
     "text": [
      "Labels:  [[0],\n",
      " [0],\n",
      " [0],\n",
      " [1],\n",
      " [1]]\n",
      "Inertia:  2.3333335\n",
      "Transform:  [[ 0.5555557,       24.5],\n",
      " [ 0.2222222,       18.5],\n",
      " [0.55555546,       12.5],\n",
      " [ 18.222221,        0.5],\n",
      " [ 18.888887,        0.5]]\n"
     ]
    }
   ],
   "source": [
    "let data = Tensor<Float>([[1, 1], [1, 2], [2, 2], [4, 5], [5, 4]])\n",
    "let model = KMeans(nClusters: 2, maxIterations: 1, initializer: \"kmean++\")\n",
    "model.fit(X: data)\n",
    "print(\"Labels: \",model.labels)\n",
    "print(\"Inertia: \",model.inertia)\n",
    "print(\"Transform: \",model.transform(X: data))"
   ]
  },
  {
   "cell_type": "code",
   "execution_count": 9,
   "metadata": {},
   "outputs": [],
   "source": [
    "let y = model.labels.makeNumpyArray()\n",
    "let centroids = model.centroids.makeNumpyArray()\n",
    "\n",
    "let dataNP = data.makeNumpyArray()\n",
    "let colors2 = [\"red\",\"blue\"]"
   ]
  },
  {
   "cell_type": "code",
   "execution_count": 10,
   "metadata": {},
   "outputs": [
    {
     "data": {
      "image/png": "[encoded data removed]",
      "text/plain": [
       "<Figure size 720x432 with 1 Axes>"
      ]
     },
     "metadata": {
      "needs_background": "light"
     },
     "output_type": "display_data"
    },
    {
     "data": {
      "text/plain": [
       "None\n"
      ]
     },
     "execution_count": 10,
     "metadata": {},
     "output_type": "execute_result"
    }
   ],
   "source": [
    "plt.figure(figsize: [10, 6])\n",
    "\n",
    "for i in 0..<data.shape[0] {\n",
    "    let id:Int = Int(y[i][0])!\n",
    "    plt.scatter(dataNP[i][0], dataNP[i][1], color: colors2[id])\n",
    "}\n",
    "\n",
    "for i in 0..<model.centroids.shape[0] {\n",
    "    plt.scatter(centroids[i][0], centroids[i][1], color: \"black\", marker: \"*\")\n",
    "}\n",
    "\n",
    "plt.show()"
   ]
  },
  {
   "cell_type": "code",
   "execution_count": null,
   "metadata": {},
   "outputs": [],
   "source": []
  }
 ],
 "metadata": {
  "kernelspec": {
   "display_name": "Swift",
   "language": "swift",
   "name": "swift"
  },
  "language_info": {
   "file_extension": ".swift",
   "mimetype": "text/x-swift",
   "name": "swift",
   "version": ""
  }
 },
 "nbformat": 4,
 "nbformat_minor": 2
}
